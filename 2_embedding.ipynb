{
 "cells": [
  {
   "cell_type": "markdown",
   "metadata": {},
   "source": [
    "# TP : Comment les LLM représentent le monde ?\n",
    "## Exploration des embeddings et des biais géopolitiques\n",
    "\n",
    "### Objectifs du TP\n",
    "- Comprendre le concept d'embedding et de similarité sémantique\n",
    "- Explorer comment les modèles de langage représentent les concepts géopolitiques\n",
    "- Analyser les biais potentiels dans ces représentations\n",
    "- Visualiser les relations sémantiques capturées par les embeddings"
   ]
  },
  {
   "cell_type": "markdown",
   "metadata": {},
   "source": [
    "## 0. Installation et imports"
   ]
  },
  {
   "cell_type": "code",
   "execution_count": null,
   "metadata": {},
   "outputs": [],
   "source": [
    "# Installation des librairies nécessaires\n",
    "!pip install sentence-transformers numpy pandas matplotlib seaborn scikit-learn plotly -q"
   ]
  },
  {
   "cell_type": "code",
   "execution_count": null,
   "metadata": {},
   "outputs": [],
   "source": [
    "# Imports\n",
    "import numpy as np\n",
    "import pandas as pd\n",
    "import matplotlib.pyplot as plt\n",
    "import seaborn as sns\n",
    "from sentence_transformers import SentenceTransformer\n",
    "from sklearn.decomposition import PCA\n",
    "from sklearn.metrics.pairwise import cosine_similarity\n",
    "import plotly.express as px\n",
    "import plotly.graph_objects as go\n",
    "from typing import List, Dict, Tuple\n",
    "import warnings\n",
    "warnings.filterwarnings('ignore')\n",
    "\n",
    "# Configuration pour un affichage optimal\n",
    "plt.rcParams['figure.figsize'] = (10, 8)\n",
    "plt.rcParams['font.size'] = 12\n",
    "sns.set_style(\"whitegrid\")"
   ]
  },
  {
   "cell_type": "markdown",
   "metadata": {},
   "source": [
    "## 1. Introduction aux embeddings\n",
    "\n",
    "### Qu'est-ce qu'un embedding ?\n",
    "\n",
    "Un **embedding** est une représentation vectorielle dense d'un mot, d'une phrase ou d'un document. Ces vecteurs capturent les relations sémantiques entre les concepts.\n",
    "\n",
    "### Pourquoi c'est important ?\n",
    "- Les embeddings permettent de calculer des **similarités** entre concepts\n",
    "- Ils révèlent comment le modèle \"comprend\" les relations entre les mots\n",
    "- **MAIS** : ils reflètent aussi les biais présents dans les données d'entraînement !"
   ]
  },
  {
   "cell_type": "markdown",
   "metadata": {},
   "source": [
    "## 2. Chargement du modèle\n",
    "\n",
    "Nous utilisons un modèle multilingue pour pouvoir travailler avec différentes langues."
   ]
  },
  {
   "cell_type": "code",
   "execution_count": null,
   "metadata": {},
   "outputs": [],
   "source": [
    "# Chargement du modèle sentence-transformers multilingue\n",
    "# Ce modèle est entraîné sur des données multilingues et peut encoder des phrases dans plus de 50 langues\n",
    "model_name = 'sentence-transformers/paraphrase-multilingual-MiniLM-L12-v2'\n",
    "model = SentenceTransformer(model_name)\n",
    "\n",
    "print(f\"Modèle chargé : {model_name}\")\n",
    "print(f\"Dimension des embeddings : {model.get_sentence_embedding_dimension()}\")"
   ]
  },
  {
   "cell_type": "markdown",
   "metadata": {},
   "source": [
    "## 3. Fonctions utilitaires\n",
    "\n",
    "Définissons les fonctions principales pour notre exploration."
   ]
  },
  {
   "cell_type": "code",
   "execution_count": null,
   "metadata": {},
   "outputs": [],
   "source": [
    "def generate_embeddings(texts: List[str], model: SentenceTransformer) -> Dict[str, np.ndarray]:\n",
    "    \"\"\"\n",
    "    Génère les embeddings pour une liste de textes.\n",
    "    \n",
    "    Args:\n",
    "        texts: Liste de textes à encoder\n",
    "        model: Modèle SentenceTransformer\n",
    "    \n",
    "    Returns:\n",
    "        Dictionnaire {texte: embedding}\n",
    "    \"\"\"\n",
    "    embeddings = model.encode(texts, convert_to_numpy=True)\n",
    "    return dict(zip(texts, embeddings))\n",
    "\n",
    "\n",
    "def plot_similarity_matrix(embeddings_dict: Dict[str, np.ndarray], title: str = \"Matrice de similarité\"):\n",
    "    \"\"\"\n",
    "    Affiche une matrice de similarité sous forme de heatmap.\n",
    "    \n",
    "    Args:\n",
    "        embeddings_dict: Dictionnaire {texte: embedding}\n",
    "        title: Titre du graphique\n",
    "    \"\"\"\n",
    "    labels = list(embeddings_dict.keys())\n",
    "    embeddings = np.array(list(embeddings_dict.values()))\n",
    "    \n",
    "    # Calcul de la matrice de similarité cosinus\n",
    "    similarity_matrix = cosine_similarity(embeddings)\n",
    "    \n",
    "    # Création de la heatmap\n",
    "    plt.figure(figsize=(12, 10))\n",
    "    sns.heatmap(similarity_matrix, \n",
    "                xticklabels=labels, \n",
    "                yticklabels=labels, \n",
    "                annot=True, \n",
    "                fmt='.2f',\n",
    "                cmap='RdBu_r',\n",
    "                vmin=-1, vmax=1,\n",
    "                square=True)\n",
    "    plt.title(title)\n",
    "    plt.xticks(rotation=45, ha='right')\n",
    "    plt.yticks(rotation=0)\n",
    "    plt.tight_layout()\n",
    "    plt.show()\n",
    "    \n",
    "    return similarity_matrix\n",
    "\n",
    "\n",
    "def plot_pca_2d(embeddings_dict: Dict[str, np.ndarray], title: str = \"Projection PCA 2D\", \n",
    "                categories: Dict[str, str] = None):\n",
    "    \"\"\"\n",
    "    Projette les embeddings en 2D avec PCA et les visualise.\n",
    "    \n",
    "    Args:\n",
    "        embeddings_dict: Dictionnaire {texte: embedding}\n",
    "        title: Titre du graphique\n",
    "        categories: Dictionnaire optionnel {texte: catégorie} pour colorer les points\n",
    "    \"\"\"\n",
    "    labels = list(embeddings_dict.keys())\n",
    "    embeddings = np.array(list(embeddings_dict.values()))\n",
    "    \n",
    "    # PCA en 2D\n",
    "    pca = PCA(n_components=2)\n",
    "    embeddings_2d = pca.fit_transform(embeddings)\n",
    "    \n",
    "    # Création du DataFrame pour plotly\n",
    "    df = pd.DataFrame({\n",
    "        'x': embeddings_2d[:, 0],\n",
    "        'y': embeddings_2d[:, 1],\n",
    "        'label': labels\n",
    "    })\n",
    "    \n",
    "    if categories:\n",
    "        df['category'] = [categories.get(label, 'Autre') for label in labels]\n",
    "        color_col = 'category'\n",
    "    else:\n",
    "        color_col = None\n",
    "    \n",
    "    # Visualisation interactive avec plotly\n",
    "    fig = px.scatter(df, x='x', y='y', text='label', color=color_col,\n",
    "                     title=title, \n",
    "                     labels={'x': f'PC1 ({pca.explained_variance_ratio_[0]:.1%})', \n",
    "                             'y': f'PC2 ({pca.explained_variance_ratio_[1]:.1%})'})\n",
    "    \n",
    "    fig.update_traces(textposition='top center', \n",
    "                      marker=dict(size=10))\n",
    "    \n",
    "    fig.update_layout(width=800, height=600)\n",
    "    fig.show()\n",
    "    \n",
    "    print(f\"Variance expliquée : PC1={pca.explained_variance_ratio_[0]:.1%}, PC2={pca.explained_variance_ratio_[1]:.1%}\")\n",
    "    print(f\"Variance totale expliquée : {sum(pca.explained_variance_ratio_):.1%}\")"
   ]
  },
  {
   "cell_type": "markdown",
   "metadata": {},
   "source": [
    "## 4. Premier exemple : Concepts simples en français\n",
    "\n",
    "Commençons par explorer comment le modèle représente des concepts simples de la langue française."
   ]
  },
  {
   "cell_type": "code",
   "execution_count": null,
   "metadata": {},
   "outputs": [],
   "source": [
    "# Exemple 1 : Mots simples\n",
    "mots_simples = [\n",
    "    \"chat\", \"chien\", \"oiseau\",  # Animaux\n",
    "    \"voiture\", \"avion\", \"train\",  # Transports\n",
    "    \"pomme\", \"orange\", \"banane\",  # Fruits\n",
    "    \"Paris\", \"Londres\", \"Berlin\"  # Villes\n",
    "]\n",
    "\n",
    "# Génération des embeddings\n",
    "embeddings_simples = generate_embeddings(mots_simples, model)\n",
    "\n",
    "# Visualisation\n",
    "print(\"=== Matrice de similarité ===\\n\")\n",
    "similarity_matrix = plot_similarity_matrix(embeddings_simples, \"Similarité entre concepts simples\")"
   ]
  },
  {
   "cell_type": "code",
   "execution_count": null,
   "metadata": {},
   "outputs": [],
   "source": [
    "# Définition des catégories pour la visualisation\n",
    "categories_simples = {\n",
    "    \"chat\": \"Animaux\", \"chien\": \"Animaux\", \"oiseau\": \"Animaux\",\n",
    "    \"voiture\": \"Transports\", \"avion\": \"Transports\", \"train\": \"Transports\",\n",
    "    \"pomme\": \"Fruits\", \"orange\": \"Fruits\", \"banane\": \"Fruits\",\n",
    "    \"Paris\": \"Villes\", \"Londres\": \"Villes\", \"Berlin\": \"Villes\"\n",
    "}\n",
    "\n",
    "# Visualisation PCA\n",
    "print(\"\\n=== Projection PCA 2D ===\\n\")\n",
    "plot_pca_2d(embeddings_simples, \"Projection PCA - Concepts simples\", categories_simples)"
   ]
  },
  {
   "cell_type": "markdown",
   "metadata": {},
   "source": [
    "### 💡 Question 1\n",
    "**Observez la matrice de similarité et la projection PCA. Que remarquez-vous ?**\n",
    "- Les mots de la même catégorie sont-ils proches ?\n",
    "- Y a-t-il des similarités surprenantes ?"
   ]
  },
  {
   "cell_type": "markdown",
   "metadata": {},
   "source": [
    "## 5. Exploration géopolitique\n",
    "\n",
    "Passons maintenant à l'exploration de concepts géopolitiques plus complexes."
   ]
  },
  {
   "cell_type": "markdown",
   "metadata": {},
   "source": [
    "### 5.1 Notions géopolitiques fondamentales"
   ]
  },
  {
   "cell_type": "code",
   "execution_count": null,
   "metadata": {},
   "outputs": [],
   "source": [
    "# Concepts géopolitiques\n",
    "concepts_geopolitiques = [\n",
    "    \"démocratie\",\n",
    "    \"dictature\",\n",
    "    \"liberté\",\n",
    "    \"oppression\",\n",
    "    \"développement\",\n",
    "    \"pauvreté\",\n",
    "    \"paix\",\n",
    "    \"guerre\",\n",
    "    \"occident\",\n",
    "    \"orient\",\n",
    "    \"nord global\",\n",
    "    \"sud global\"\n",
    "]\n",
    "\n",
    "embeddings_concepts = generate_embeddings(concepts_geopolitiques, model)\n",
    "plot_similarity_matrix(embeddings_concepts, \"Similarité entre concepts géopolitiques\")"
   ]
  },
  {
   "cell_type": "code",
   "execution_count": null,
   "metadata": {},
   "outputs": [],
   "source": [
    "# Catégorisation pour la visualisation\n",
    "categories_concepts = {\n",
    "    \"démocratie\": \"Système politique\",\n",
    "    \"dictature\": \"Système politique\",\n",
    "    \"liberté\": \"Valeurs\",\n",
    "    \"oppression\": \"Valeurs\",\n",
    "    \"développement\": \"Économie\",\n",
    "    \"pauvreté\": \"Économie\",\n",
    "    \"paix\": \"État\",\n",
    "    \"guerre\": \"État\",\n",
    "    \"occident\": \"Géographie\",\n",
    "    \"orient\": \"Géographie\",\n",
    "    \"nord global\": \"Géographie\",\n",
    "    \"sud global\": \"Géographie\"\n",
    "}\n",
    "\n",
    "plot_pca_2d(embeddings_concepts, \"Projection PCA - Concepts géopolitiques\", categories_concepts)"
   ]
  },
  {
   "cell_type": "markdown",
   "metadata": {},
   "source": [
    "### 💡 Question 2\n",
    "**Analysez les associations entre concepts :**\n",
    "- Quels concepts sont les plus proches de \"démocratie\" ?\n",
    "- Comment sont positionnés \"occident\" et \"orient\" par rapport aux autres concepts ?\n",
    "- Ces associations vous semblent-elles neutres ou biaisées ?"
   ]
  },
  {
   "cell_type": "markdown",
   "metadata": {},
   "source": [
    "### 5.2 Représentation des pays"
   ]
  },
  {
   "cell_type": "code",
   "execution_count": null,
   "metadata": {},
   "outputs": [],
   "source": [
    "# Liste de pays diversifiés\n",
    "pays = [\n",
    "    # Europe\n",
    "    \"France\", \"Allemagne\", \"Royaume-Uni\", \"Italie\", \"Espagne\", \"Pologne\",\n",
    "    # Amérique\n",
    "    \"États-Unis\", \"Canada\", \"Brésil\", \"Argentine\", \"Mexique\",\n",
    "    # Asie\n",
    "    \"Chine\", \"Japon\", \"Inde\", \"Corée du Sud\", \"Indonésie\",\n",
    "    # Afrique\n",
    "    \"Nigeria\", \"Afrique du Sud\", \"Égypte\", \"Kenya\", \"Maroc\",\n",
    "    # Moyen-Orient\n",
    "    \"Arabie Saoudite\", \"Iran\", \"Israël\", \"Turquie\",\n",
    "    # Océanie\n",
    "    \"Australie\", \"Nouvelle-Zélande\"\n",
    "]\n",
    "\n",
    "embeddings_pays = generate_embeddings(pays, model)"
   ]
  },
  {
   "cell_type": "code",
   "execution_count": null,
   "metadata": {},
   "outputs": [],
   "source": [
    "plot_similarity_matrix(embeddings_pays, \"Matrice de similarité entre pays\")"
   ]
  },
  {
   "cell_type": "code",
   "execution_count": null,
   "metadata": {},
   "outputs": [],
   "source": [
    "# Définition des régions pour la visualisation\n",
    "regions = {\n",
    "    \"France\": \"Europe\", \"Allemagne\": \"Europe\", \"Royaume-Uni\": \"Europe\", \n",
    "    \"Italie\": \"Europe\", \"Espagne\": \"Europe\", \"Pologne\": \"Europe\",\n",
    "    \"États-Unis\": \"Amérique\", \"Canada\": \"Amérique\", \"Brésil\": \"Amérique\", \n",
    "    \"Argentine\": \"Amérique\", \"Mexique\": \"Amérique\",\n",
    "    \"Chine\": \"Asie\", \"Japon\": \"Asie\", \"Inde\": \"Asie\", \n",
    "    \"Corée du Sud\": \"Asie\", \"Indonésie\": \"Asie\",\n",
    "    \"Nigeria\": \"Afrique\", \"Afrique du Sud\": \"Afrique\", \"Égypte\": \"Afrique\", \n",
    "    \"Kenya\": \"Afrique\", \"Maroc\": \"Afrique\",\n",
    "    \"Arabie Saoudite\": \"Moyen-Orient\", \"Iran\": \"Moyen-Orient\", \n",
    "    \"Israël\": \"Moyen-Orient\", \"Turquie\": \"Moyen-Orient\",\n",
    "    \"Australie\": \"Océanie\", \"Nouvelle-Zélande\": \"Océanie\"\n",
    "}\n",
    "\n",
    "plot_pca_2d(embeddings_pays, \"Projection PCA - Pays du monde\", regions)"
   ]
  },
  {
   "cell_type": "markdown",
   "metadata": {},
   "source": [
    "### 💡 Question 3\n",
    "**Explorez les regroupements de pays :**\n",
    "- Les pays sont-ils regroupés par région géographique ?\n",
    "- Ou par d'autres critères (économiques, culturels, politiques) ?\n",
    "- Identifiez des pays \"proches\" de manière surprenante."
   ]
  },
  {
   "cell_type": "markdown",
   "metadata": {},
   "source": [
    "### 5.3 Pays dans différents contextes géopolitiques"
   ]
  },
  {
   "cell_type": "code",
   "execution_count": null,
   "metadata": {},
   "outputs": [],
   "source": [
    "# Créons des descriptions contextualisées\n",
    "contextes_pays = [\n",
    "    # Contexte économique\n",
    "    \"France pays développé\",\n",
    "    \"France économie avancée\",\n",
    "    \"Nigeria pays en développement\",\n",
    "    \"Nigeria économie émergente\",\n",
    "    \n",
    "    # Contexte politique\n",
    "    \"États-Unis démocratie\",\n",
    "    \"États-Unis superpuissance\",\n",
    "    \"Chine régime autoritaire\",\n",
    "    \"Chine puissance montante\",\n",
    "    \n",
    "    # Contexte culturel\n",
    "    \"Japon tradition moderne\",\n",
    "    \"Japon technologie avancée\",\n",
    "    \"Inde diversité culturelle\",\n",
    "    \"Inde démocratie peuplée\",\n",
    "    \n",
    "    # Contexte conflictuel\n",
    "    \"Israël conflit régional\",\n",
    "    \"Palestine territoire occupé\",\n",
    "    \"Ukraine guerre 2022\",\n",
    "    \"Russie agression militaire\"\n",
    "]\n",
    "\n",
    "embeddings_contextes = generate_embeddings(contextes_pays, model)\n",
    "plot_similarity_matrix(embeddings_contextes, \"Similarité entre pays en contexte\")"
   ]
  },
  {
   "cell_type": "code",
   "execution_count": null,
   "metadata": {},
   "outputs": [],
   "source": [
    "# Catégorisons par type de contexte\n",
    "categories_contextes = {\n",
    "    \"France pays développé\": \"Économique\",\n",
    "    \"France économie avancée\": \"Économique\",\n",
    "    \"Nigeria pays en développement\": \"Économique\",\n",
    "    \"Nigeria économie émergente\": \"Économique\",\n",
    "    \"États-Unis démocratie\": \"Politique\",\n",
    "    \"États-Unis superpuissance\": \"Politique\",\n",
    "    \"Chine régime autoritaire\": \"Politique\",\n",
    "    \"Chine puissance montante\": \"Politique\",\n",
    "    \"Japon tradition moderne\": \"Culturel\",\n",
    "    \"Japon technologie avancée\": \"Culturel\",\n",
    "    \"Inde diversité culturelle\": \"Culturel\",\n",
    "    \"Inde démocratie peuplée\": \"Culturel\",\n",
    "    \"Israël conflit régional\": \"Conflictuel\",\n",
    "    \"Palestine territoire occupé\": \"Conflictuel\",\n",
    "    \"Ukraine guerre 2022\": \"Conflictuel\",\n",
    "    \"Russie agression militaire\": \"Conflictuel\"\n",
    "}\n",
    "\n",
    "plot_pca_2d(embeddings_contextes, \"Projection PCA - Pays en contexte\", categories_contextes)"
   ]
  },
  {
   "cell_type": "markdown",
   "metadata": {},
   "source": [
    "### 💡 Question 4\n",
    "**Analysez l'impact du contexte :**\n",
    "- Comment le contexte change-t-il la position d'un pays dans l'espace des embeddings ?\n",
    "- Les descriptions positives/négatives influencent-elles les similarités ?\n",
    "- Quels biais potentiels identifiez-vous ?"
   ]
  },
  {
   "cell_type": "markdown",
   "metadata": {},
   "source": [
    "## 6. Exploration libre et réflexion\n",
    "\n",
    "### 6.1 Testez vos propres hypothèses"
   ]
  },
  {
   "cell_type": "code",
   "execution_count": null,
   "metadata": {},
   "outputs": [],
   "source": [
    "# Zone d'expérimentation libre\n",
    "# Modifiez cette liste pour tester vos propres concepts !\n",
    "\n",
    "mes_concepts = [\n",
    "    # Exemple : stéréotypes de genre\n",
    "    \"homme fort\",\n",
    "    \"femme forte\",\n",
    "    \"homme sensible\",\n",
    "    \"femme sensible\",\n",
    "    \n",
    "    # Exemple : professions\n",
    "    \"ingénieur\",\n",
    "    \"infirmière\",\n",
    "    \"PDG\",\n",
    "    \"secrétaire\",\n",
    "    \n",
    "    # Ajoutez vos propres concepts ici !\n",
    "    \n",
    "]\n",
    "\n",
    "# Génération et visualisation\n",
    "embeddings_libres = generate_embeddings(mes_concepts, model)\n",
    "plot_similarity_matrix(embeddings_libres, \"Exploration libre - Mes concepts\")\n",
    "plot_pca_2d(embeddings_libres, \"Projection PCA - Mes concepts\")"
   ]
  },
  {
   "cell_type": "markdown",
   "metadata": {},
   "source": [
    "### 6.2 Analyse comparative multilingue"
   ]
  },
  {
   "cell_type": "code",
   "execution_count": null,
   "metadata": {},
   "outputs": [],
   "source": [
    "# Testons la représentation d'un même concept dans différentes langues\n",
    "concepts_multilingues = [\n",
    "    # Liberté\n",
    "    \"liberté\",        # Français\n",
    "    \"freedom\",        # Anglais\n",
    "    \"libertad\",       # Espagnol\n",
    "    \"Freiheit\",       # Allemand\n",
    "    \"自由\",           # Chinois\n",
    "    \"حرية\",          # Arabe\n",
    "    \n",
    "    # Paix\n",
    "    \"paix\",          # Français\n",
    "    \"peace\",         # Anglais\n",
    "    \"paz\",           # Espagnol\n",
    "    \"Frieden\",       # Allemand\n",
    "    \"和平\",          # Chinois\n",
    "    \"سلام\",          # Arabe\n",
    "]\n",
    "\n",
    "embeddings_multilingue = generate_embeddings(concepts_multilingues, model)\n",
    "plot_similarity_matrix(embeddings_multilingue, \"Similarité multilingue\")"
   ]
  },
  {
   "cell_type": "markdown",
   "metadata": {},
   "source": [
    "### 💡 Question 5\n",
    "**Réflexion finale :**\n",
    "- Les mêmes concepts sont-ils représentés de la même façon dans différentes langues ?\n",
    "- Quelles implications cela a-t-il pour l'utilisation de modèles multilingues ?\n",
    "- Comment pourrait-on détecter et corriger les biais identifiés ?"
   ]
  },
  {
   "cell_type": "markdown",
   "metadata": {},
   "source": [
    "## 7. Pour aller plus loin\n",
    "\n",
    "### 7.1 Comparaison avec d'autres modèles"
   ]
  },
  {
   "cell_type": "code",
   "execution_count": null,
   "metadata": {},
   "outputs": [],
   "source": [
    "# Liste d'autres modèles à essayer\n",
    "autres_modeles = [\n",
    "    'sentence-transformers/all-MiniLM-L6-v2',  # Anglais uniquement\n",
    "    'sentence-transformers/distiluse-base-multilingual-cased-v2',  # Multilingue\n",
    "    'sentence-transformers/LaBSE',  # Large-scale multilingual\n",
    "]\n",
    "\n",
    "print(\"Autres modèles que vous pouvez tester :\")\n",
    "for modele in autres_modeles:\n",
    "    print(f\"- {modele}\")\n",
    "\n",
    "# Décommentez pour tester un autre modèle\n",
    "# nouveau_model = SentenceTransformer('sentence-transformers/LaBSE')\n",
    "# nouveaux_embeddings = generate_embeddings(pays[:10], nouveau_model)\n",
    "# plot_pca_2d(nouveaux_embeddings, \"Projection avec LaBSE\")"
   ]
  },
  {
   "cell_type": "markdown",
   "metadata": {},
   "source": [
    "## 8. Conclusions et discussions\n",
    "\n",
    "### Points clés à retenir :\n",
    "\n",
    "1. **Les embeddings capturent des relations sémantiques complexes**\n",
    "   - Similarités conceptuelles\n",
    "   - Relations géographiques et culturelles\n",
    "   - Associations contextuelles\n",
    "\n",
    "2. **Les biais sont omniprésents**\n",
    "   - Reflet des données d'entraînement\n",
    "   - Associations culturelles et historiques\n",
    "   - Stéréotypes sociaux\n",
    "\n",
    "3. **Implications pratiques**\n",
    "   - Nécessité de tester et auditer les modèles\n",
    "   - Importance du contexte d'utilisation\n",
    "   - Besoin de diversité dans les données\n",
    "\n",
    "### Questions pour la discussion :\n",
    "\n",
    "- Comment peut-on utiliser ces modèles de manière éthique ?\n",
    "- Quelles précautions prendre dans des applications sensibles ?\n",
    "- Comment améliorer la représentation équitable des différentes cultures ?"
   ]
  }
 ],
 "metadata": {
  "kernelspec": {
   "display_name": "Python 3 (ipykernel)",
   "language": "python",
   "name": "python3"
  },
  "language_info": {
   "codemirror_mode": {
    "name": "ipython",
    "version": 3
   },
   "file_extension": ".py",
   "mimetype": "text/x-python",
   "name": "python",
   "nbconvert_exporter": "python",
   "pygments_lexer": "ipython3",
   "version": "3.13.3"
  }
 },
 "nbformat": 4,
 "nbformat_minor": 4
}
